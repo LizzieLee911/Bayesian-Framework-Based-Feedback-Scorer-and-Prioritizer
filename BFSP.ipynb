{
 "cells": [
  {
   "cell_type": "code",
   "execution_count": 7,
   "id": "d369fed2",
   "metadata": {},
   "outputs": [],
   "source": [
    "import pandas as pd, numpy as np\n",
    "import os\n",
    "import numpy as np\n",
    "import time\n",
    "import math\n",
    "\n",
    "notebook_path = os.path.abspath(\"\")\n",
    "os.chdir(notebook_path)\n",
    "current_dir = os.getcwd()\n",
    "\n",
    "#Feedbacks need to be progressed\n",
    "latest_file = os.path.join(current_dir, \"Feedbacks\", \"feedback_latest.xlsx\")\n",
    "# We’ll collect our prior knowledge from this labeled dataset.\n",
    "prior_file = os.path.join(current_dir, \"Feedbacks\", \"feedback_prior.xlsx\") \n",
    "\n",
    "df_latest = pd.read_excel(latest_file)  \n",
    "df_prior = pd.read_excel(prior_file)"
   ]
  },
  {
   "cell_type": "code",
   "execution_count": 18,
   "id": "f9a86fa1",
   "metadata": {},
   "outputs": [
    {
     "data": {
      "text/html": [
       "<div>\n",
       "<style scoped>\n",
       "    .dataframe tbody tr th:only-of-type {\n",
       "        vertical-align: middle;\n",
       "    }\n",
       "\n",
       "    .dataframe tbody tr th {\n",
       "        vertical-align: top;\n",
       "    }\n",
       "\n",
       "    .dataframe thead th {\n",
       "        text-align: right;\n",
       "    }\n",
       "</style>\n",
       "<table border=\"1\" class=\"dataframe\">\n",
       "  <thead>\n",
       "    <tr style=\"text-align: right;\">\n",
       "      <th></th>\n",
       "      <th>ID</th>\n",
       "      <th>Sources</th>\n",
       "      <th>Feedback</th>\n",
       "      <th>Product</th>\n",
       "      <th>Date</th>\n",
       "      <th>Type_of_Cancer</th>\n",
       "      <th>Feedback_Type</th>\n",
       "      <th>Sentiment</th>\n",
       "    </tr>\n",
       "  </thead>\n",
       "  <tbody>\n",
       "    <tr>\n",
       "      <th>0</th>\n",
       "      <td>235735</td>\n",
       "      <td>Patient</td>\n",
       "      <td>This app is a lifesaver! Makes tracking my sym...</td>\n",
       "      <td>X</td>\n",
       "      <td>2024-07-07</td>\n",
       "      <td>Multiple_Myeloma</td>\n",
       "      <td>UX</td>\n",
       "      <td>Positive</td>\n",
       "    </tr>\n",
       "    <tr>\n",
       "      <th>1</th>\n",
       "      <td>833850</td>\n",
       "      <td>Care_Giver</td>\n",
       "      <td>UI is clean but the loading time is a bit slow.</td>\n",
       "      <td>Y</td>\n",
       "      <td>2024-08-19</td>\n",
       "      <td>NaN</td>\n",
       "      <td>UI</td>\n",
       "      <td>Neutral</td>\n",
       "    </tr>\n",
       "  </tbody>\n",
       "</table>\n",
       "</div>"
      ],
      "text/plain": [
       "       ID     Sources                                           Feedback  \\\n",
       "0  235735     Patient  This app is a lifesaver! Makes tracking my sym...   \n",
       "1  833850  Care_Giver    UI is clean but the loading time is a bit slow.   \n",
       "\n",
       "  Product        Date    Type_of_Cancer Feedback_Type Sentiment  \n",
       "0       X  2024-07-07  Multiple_Myeloma            UX  Positive  \n",
       "1       Y  2024-08-19               NaN            UI   Neutral  "
      ]
     },
     "execution_count": 18,
     "metadata": {},
     "output_type": "execute_result"
    }
   ],
   "source": [
    "df_prior.head(2)"
   ]
  },
  {
   "cell_type": "code",
   "execution_count": null,
   "id": "edb76fb7",
   "metadata": {},
   "outputs": [],
   "source": [
    "#Ignore this piece for now\n",
    "from openai import OpenAI\n",
    "\n",
    "###YOUR API HERE\n",
    "API_KEY = \"YOUR API\"\n",
    "content = \"TEST\"\n",
    "\n",
    "USE_YOUR_API= False \n",
    "\n",
    "if USE_YOUR_API: \n",
    "\n",
    "    client = OpenAI(\n",
    "        api_key=API_KEY,\n",
    "        base_url=\"https://api.x.ai/v1\",  \n",
    "    )\n",
    "\n",
    "    completion = client.chat.completions.create(\n",
    "        model=\"grok-3-mini-beta\", \n",
    "        messages=[\n",
    "            {\"role\": \"user\", \"content\": content},\n",
    "        ]\n",
    "    )\n",
    "\n",
    "    print(completion.choices[0].message.content)"
   ]
  },
  {
   "cell_type": "markdown",
   "id": "bde9c43a",
   "metadata": {},
   "source": [
    "Assuming the LLM outputs a probability matrix for feedback classification, the following code simulates a score update for BFSP by integrating entropy, source weights (patient/doctor), and update costs to prioritize feedback.\n"
   ]
  }
 ],
 "metadata": {
  "kernelspec": {
   "display_name": "Python 3",
   "language": "python",
   "name": "python3"
  },
  "language_info": {
   "codemirror_mode": {
    "name": "ipython",
    "version": 3
   },
   "file_extension": ".py",
   "mimetype": "text/x-python",
   "name": "python",
   "nbconvert_exporter": "python",
   "pygments_lexer": "ipython3",
   "version": "3.11.0"
  }
 },
 "nbformat": 4,
 "nbformat_minor": 5
}
