{
 "cells": [
  {
   "cell_type": "markdown",
   "id": "f60718bb",
   "metadata": {},
   "source": [
    "I'm still working on the code factoring in connecting the API and the OCR. Let's assume we got the probablity vectors from the LLM and do a posterior update."
   ]
  },
  {
   "cell_type": "code",
   "execution_count": null,
   "id": "edb76fb7",
   "metadata": {},
   "outputs": [],
   "source": [
    "#Ignore this piece for now\n",
    "from openai import OpenAI\n",
    "\n",
    "###YOUR API HERE\n",
    "API_KEY = \"YOUR API\"\n",
    "content = \"TEST\"\n",
    "\n",
    "USE_YOUR_API= False \n",
    "\n",
    "if USE_YOUR_API: \n",
    "\n",
    "    client = OpenAI(\n",
    "        api_key=API_KEY,\n",
    "        base_url=\"https://api.x.ai/v1\",  \n",
    "    )\n",
    "\n",
    "    completion = client.chat.completions.create(\n",
    "        model=\"grok-3-mini-beta\", \n",
    "        messages=[\n",
    "            {\"role\": \"user\", \"content\": content},\n",
    "        ]\n",
    "    )\n",
    "\n",
    "    print(completion.choices[0].message.content)"
   ]
  },
  {
   "cell_type": "markdown",
   "id": "bde9c43a",
   "metadata": {},
   "source": [
    "Assuming the LLM outputs a probability matrix for feedback classification, the following code simulates a score update for BFSP by integrating entropy, source weights (patient/doctor), and update costs to prioritize feedback.\n",
    "*The feedbacks provided now is generated*"
   ]
  }
 ],
 "metadata": {
  "kernelspec": {
   "display_name": "Python 3",
   "language": "python",
   "name": "python3"
  },
  "language_info": {
   "codemirror_mode": {
    "name": "ipython",
    "version": 3
   },
   "file_extension": ".py",
   "mimetype": "text/x-python",
   "name": "python",
   "nbconvert_exporter": "python",
   "pygments_lexer": "ipython3",
   "version": "3.11.0"
  }
 },
 "nbformat": 4,
 "nbformat_minor": 5
}
