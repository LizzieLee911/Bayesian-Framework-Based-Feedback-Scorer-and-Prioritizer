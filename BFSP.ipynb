{
 "cells": [
  {
   "cell_type": "code",
   "execution_count": null,
   "id": "edb76fb7",
   "metadata": {},
   "outputs": [],
   "source": [
    "# I'm still working on the code!!! This will be ready soon.\n",
    "from openai import OpenAI\n",
    "\n",
    "###YOUR API HERE\n",
    "API_KEY = \"YOUR API\"\n",
    "content = \"TEST\"\n",
    "\n",
    "USE_YOUR_API= True #Turn it to false will "
   ]
  },
  {
   "cell_type": "code",
   "execution_count": null,
   "id": "1c879836",
   "metadata": {},
   "outputs": [
    {
     "name": "stdout",
     "output_type": "stream",
     "text": [
      "Hello! I'm Grok, your friendly AI assistant built by xAI. How can I help you today? 😊\n"
     ]
    }
   ],
   "source": [
    "if USE_YOUR_API: \n",
    "\n",
    "    client = OpenAI(\n",
    "        api_key=API_KEY,\n",
    "        base_url=\"https://api.x.ai/v1\",  \n",
    "    )\n",
    "\n",
    "    completion = client.chat.completions.create(\n",
    "        model=\"grok-3-mini-beta\", \n",
    "        messages=[\n",
    "            {\"role\": \"user\", \"content\": content},\n",
    "        ]\n",
    "    )\n",
    "\n",
    "    print(completion.choices[0].message.content)\n"
   ]
  },
  {
   "cell_type": "code",
   "execution_count": null,
   "id": "5e7ee719",
   "metadata": {},
   "outputs": [],
   "source": [
    "# Assuming the LLM outputs a probability matrix for feedback classification \n",
    "# (e.g., UI/UX/Other with sentiment scores, like [0.9, 0.05, 0.05] for ‘terms too hard’)\n",
    "# the following code simulates a score update for BFSP by integrating entropy, \n",
    "# source weights (patient/doctor), and update costs to prioritize feedback."
   ]
  }
 ],
 "metadata": {
  "kernelspec": {
   "display_name": "Python 3",
   "language": "python",
   "name": "python3"
  },
  "language_info": {
   "codemirror_mode": {
    "name": "ipython",
    "version": 3
   },
   "file_extension": ".py",
   "mimetype": "text/x-python",
   "name": "python",
   "nbconvert_exporter": "python",
   "pygments_lexer": "ipython3",
   "version": "3.11.0"
  }
 },
 "nbformat": 4,
 "nbformat_minor": 5
}
